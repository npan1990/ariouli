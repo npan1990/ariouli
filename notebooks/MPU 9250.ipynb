{
 "cells": [
  {
   "cell_type": "code",
   "execution_count": 1,
   "id": "eb32ffa5",
   "metadata": {},
   "outputs": [
    {
     "name": "stdout",
     "output_type": "stream",
     "text": [
      "The name is wrong [96]\n",
      "The mag name is different and it is [0]\n",
      "looks like it did not write properly\n",
      "looks like it did not write properly\n",
      "looks like it did not write properly\n",
      "looks like it did not write properly\n",
      "looks like it did not write properly\n"
     ]
    },
    {
     "data": {
      "text/plain": [
       "1"
      ]
     },
     "execution_count": 1,
     "metadata": {},
     "output_type": "execute_result"
    }
   ],
   "source": [
    "import os\n",
    "import sys\n",
    "import time\n",
    "import smbus\n",
    "import math\n",
    "\n",
    "from imusensor.MPU9250 import MPU9250\n",
    "\n",
    "address = 0x68\n",
    "bus = smbus.SMBus(1)\n",
    "time.sleep(1)\n",
    "imu = MPU9250.MPU9250(bus, address)\n",
    "imu.begin()"
   ]
  },
  {
   "cell_type": "code",
   "execution_count": 17,
   "id": "e128c9e4",
   "metadata": {},
   "outputs": [
    {
     "data": {
      "text/plain": [
       "array([ 0.62731279,  0.32083937, -0.01915459])"
      ]
     },
     "execution_count": 17,
     "metadata": {},
     "output_type": "execute_result"
    }
   ],
   "source": [
    "imu.readSensor()\n",
    "imu.readRawSensor()\n",
    "imu.AccelVals"
   ]
  },
  {
   "cell_type": "code",
   "execution_count": 18,
   "id": "f5ab8de8",
   "metadata": {},
   "outputs": [
    {
     "ename": "AttributeError",
     "evalue": "'MPU9250' object has no attribute 'MagBiasVals'",
     "output_type": "error",
     "traceback": [
      "\u001b[0;31m---------------------------------------------------------------------------\u001b[0m",
      "\u001b[0;31mAttributeError\u001b[0m                            Traceback (most recent call last)",
      "Input \u001b[0;32mIn [18]\u001b[0m, in \u001b[0;36m<cell line: 1>\u001b[0;34m()\u001b[0m\n\u001b[0;32m----> 1\u001b[0m \u001b[43mimu\u001b[49m\u001b[38;5;241;43m.\u001b[39;49m\u001b[43mMagBiasVals\u001b[49m\n",
      "\u001b[0;31mAttributeError\u001b[0m: 'MPU9250' object has no attribute 'MagBiasVals'"
     ]
    }
   ],
   "source": [
    "imu.MagBiasVals"
   ]
  },
  {
   "cell_type": "code",
   "execution_count": 84,
   "id": "63945a53",
   "metadata": {},
   "outputs": [
    {
     "data": {
      "text/plain": [
       "array([ 0.        ,  0.09577295, -7.50859895])"
      ]
     },
     "execution_count": 84,
     "metadata": {},
     "output_type": "execute_result"
    }
   ],
   "source": [
    "imu.readSensor()\n",
    "imu.RawAccelVals"
   ]
  },
  {
   "cell_type": "code",
   "execution_count": 89,
   "id": "3988649c",
   "metadata": {},
   "outputs": [
    {
     "name": "stdout",
     "output_type": "stream",
     "text": [
      "looks like it did not write properly\n",
      "Acceleration calibration is starting and keep placing the IMU in 6 different directions based on the instructions below\n",
      "Put the IMU in 1 position\n",
      "[ 0.58025236  0.76590822 -5.79269494]\n",
      "[]\n",
      "[]\n",
      "[]\n",
      "Put the IMU in 2 position\n",
      "[ 9.14922542 -0.83621753  0.31989361]\n",
      "[9.1492254227512]\n",
      "[]\n",
      "[]\n",
      "Put the IMU in 3 position\n",
      "[8.32816396 1.45960364 5.95127099]\n",
      "[9.1492254227512, 8.32816395880064]\n",
      "[]\n",
      "[]\n",
      "Put the IMU in 4 position\n",
      "[ 1.58019375  0.16369991 -0.2842541 ]\n",
      "[9.1492254227512, 8.32816395880064]\n",
      "[]\n",
      "[]\n",
      "Put the IMU in 5 position\n",
      "[ 7.66549898 -4.34020244  0.24344286]\n",
      "[9.1492254227512, 8.32816395880064, 7.665498975509269]\n",
      "[]\n",
      "[]\n",
      "Put the IMU in 6 position\n",
      "[ 1.95849688 -0.07805495 -4.35402966]\n",
      "[9.1492254227512, 8.32816395880064, 7.665498975509269]\n",
      "[]\n",
      "[]\n",
      "It looks like there were some external forces on sensor and couldn't get proper values. Please try again\n",
      "Acceleration calib successful\n"
     ]
    }
   ],
   "source": [
    "imu.caliberateAccelerometer()\n",
    "print (\"Acceleration calib successful\")"
   ]
  },
  {
   "cell_type": "code",
   "execution_count": 17,
   "id": "def1c9fe",
   "metadata": {},
   "outputs": [
    {
     "name": "stdout",
     "output_type": "stream",
     "text": [
      "looks like it did not write properly\n"
     ]
    },
    {
     "name": "stderr",
     "output_type": "stream",
     "text": [
      "/home/pi/.local/lib/python3.9/site-packages/imusensor/MPU9250/MPU9250.py:374: RuntimeWarning: divide by zero encountered in double_scalars\n",
      "  self.Mags = ((maxvals - minvals)/2.0)*(1/averageRad)\n",
      "/home/pi/.local/lib/python3.9/site-packages/imusensor/MPU9250/MPU9250.py:374: RuntimeWarning: invalid value encountered in multiply\n",
      "  self.Mags = ((maxvals - minvals)/2.0)*(1/averageRad)\n"
     ]
    },
    {
     "name": "stdout",
     "output_type": "stream",
     "text": [
      "looks like it did not write properly\n",
      "Mag calib successful\n"
     ]
    }
   ],
   "source": [
    "imu.caliberateMagApprox()\n",
    "print (\"Mag calib successful\")"
   ]
  },
  {
   "cell_type": "code",
   "execution_count": 18,
   "id": "48f07b5e",
   "metadata": {},
   "outputs": [],
   "source": [
    "imu.saveCalibDataToFile('/home/pi/imu.json')"
   ]
  },
  {
   "cell_type": "code",
   "execution_count": 14,
   "id": "2841ea46",
   "metadata": {},
   "outputs": [],
   "source": [
    "imu.loadCalibDataFromFile('/home/pi/imu.json')"
   ]
  },
  {
   "cell_type": "code",
   "execution_count": 22,
   "id": "5aabe1db",
   "metadata": {},
   "outputs": [
    {
     "name": "stdout",
     "output_type": "stream",
     "text": [
      " nan"
     ]
    },
    {
     "ename": "KeyboardInterrupt",
     "evalue": "",
     "output_type": "error",
     "traceback": [
      "\u001b[0;31m---------------------------------------------------------------------------\u001b[0m",
      "\u001b[0;31mKeyboardInterrupt\u001b[0m                         Traceback (most recent call last)",
      "Input \u001b[0;32mIn [22]\u001b[0m, in \u001b[0;36m<cell line: 2>\u001b[0;34m()\u001b[0m\n\u001b[1;32m      9\u001b[0m     heading\u001b[38;5;241m+\u001b[39m\u001b[38;5;241m=\u001b[39m\u001b[38;5;241m360\u001b[39m\n\u001b[1;32m     11\u001b[0m \u001b[38;5;28mprint\u001b[39m(\u001b[38;5;124m\"\u001b[39m\u001b[38;5;130;01m\\r\u001b[39;00m\u001b[38;5;124m \u001b[39m\u001b[38;5;132;01m%f\u001b[39;00m\u001b[38;5;124m\"\u001b[39m\u001b[38;5;241m%\u001b[39mheading, end\u001b[38;5;241m=\u001b[39m\u001b[38;5;124m\"\u001b[39m\u001b[38;5;124m\"\u001b[39m)\n\u001b[0;32m---> 12\u001b[0m \u001b[43mtime\u001b[49m\u001b[38;5;241;43m.\u001b[39;49m\u001b[43msleep\u001b[49m\u001b[43m(\u001b[49m\u001b[38;5;241;43m0.1\u001b[39;49m\u001b[43m)\u001b[49m\n",
      "\u001b[0;31mKeyboardInterrupt\u001b[0m: "
     ]
    }
   ],
   "source": [
    "while True:\n",
    "    imu.readSensor()\n",
    "    xyz = imu.MagVals\n",
    "    x = xyz[0]\n",
    "    y = xyz[1]\n",
    "    heading = (math.atan2(y, x)*180)/math.pi\n",
    "\n",
    "    if heading < 0:\n",
    "        heading+=360\n",
    "\n",
    "    print(\"\\r %f\"%heading, end=\"\")\n",
    "    time.sleep(0.1)"
   ]
  },
  {
   "cell_type": "code",
   "execution_count": 100,
   "id": "74484ab9",
   "metadata": {},
   "outputs": [
    {
     "data": {
      "text/plain": [
       "array([-0., -0., -0.])"
      ]
     },
     "execution_count": 100,
     "metadata": {},
     "output_type": "execute_result"
    }
   ],
   "source": [
    "imu.readRawSensor()\n",
    "imu.RawMagVals"
   ]
  },
  {
   "cell_type": "code",
   "execution_count": null,
   "id": "f177e90c",
   "metadata": {},
   "outputs": [
    {
     "name": "stdout",
     "output_type": "stream",
     "text": [
      " 0.000000 0.306473 -7.35536284"
     ]
    }
   ],
   "source": [
    "while True:\n",
    "    imu.readRawSensor()\n",
    "    xyz = imu.RawAccelVals\n",
    "    x = xyz[0]\n",
    "    y = xyz[1]\n",
    "    z = xyz[2]\n",
    "    print(\"\\r %f %f %f\"%(x,y,z), end=\"\")\n",
    "    time.sleep(0.1)"
   ]
  },
  {
   "cell_type": "code",
   "execution_count": 4,
   "id": "5e8e4ff8",
   "metadata": {},
   "outputs": [
    {
     "ename": "RuntimeError",
     "evalue": "Unable to find lsm303d on 0x1d, IOError",
     "output_type": "error",
     "traceback": [
      "\u001b[0;31m---------------------------------------------------------------------------\u001b[0m",
      "\u001b[0;31mOSError\u001b[0m                                   Traceback (most recent call last)",
      "File \u001b[0;32m~/.local/lib/python3.9/site-packages/lsm303d/__init__.py:371\u001b[0m, in \u001b[0;36mLSM303D.setup\u001b[0;34m(self)\u001b[0m\n\u001b[1;32m    370\u001b[0m \u001b[38;5;28;01mtry\u001b[39;00m:\n\u001b[0;32m--> 371\u001b[0m     chip \u001b[38;5;241m=\u001b[39m \u001b[38;5;28;43mself\u001b[39;49m\u001b[38;5;241;43m.\u001b[39;49m\u001b[43m_lsm303d\u001b[49m\u001b[38;5;241;43m.\u001b[39;49m\u001b[43mget\u001b[49m\u001b[43m(\u001b[49m\u001b[38;5;124;43m'\u001b[39;49m\u001b[38;5;124;43mWHOAMI\u001b[39;49m\u001b[38;5;124;43m'\u001b[39;49m\u001b[43m)\u001b[49m\n\u001b[1;32m    372\u001b[0m     \u001b[38;5;28;01mif\u001b[39;00m chip\u001b[38;5;241m.\u001b[39mid \u001b[38;5;241m!=\u001b[39m \u001b[38;5;241m0x49\u001b[39m:\n",
      "File \u001b[0;32m~/.local/lib/python3.9/site-packages/i2cdevice/__init__.py:230\u001b[0m, in \u001b[0;36mDevice.get\u001b[0;34m(self, register)\u001b[0m\n\u001b[1;32m    229\u001b[0m result \u001b[38;5;241m=\u001b[39m {}\n\u001b[0;32m--> 230\u001b[0m \u001b[38;5;28;43mself\u001b[39;49m\u001b[38;5;241;43m.\u001b[39;49m\u001b[43mread_register\u001b[49m\u001b[43m(\u001b[49m\u001b[43mregister\u001b[49m\u001b[43m)\u001b[49m\n\u001b[1;32m    231\u001b[0m \u001b[38;5;28mself\u001b[39m\u001b[38;5;241m.\u001b[39mlock_register(register)\n",
      "File \u001b[0;32m~/.local/lib/python3.9/site-packages/i2cdevice/__init__.py:183\u001b[0m, in \u001b[0;36mDevice.read_register\u001b[0;34m(self, name)\u001b[0m\n\u001b[1;32m    182\u001b[0m \u001b[38;5;28;01mif\u001b[39;00m register\u001b[38;5;241m.\u001b[39mvolatile \u001b[38;5;129;01mor\u001b[39;00m \u001b[38;5;129;01mnot\u001b[39;00m register\u001b[38;5;241m.\u001b[39mis_read:\n\u001b[0;32m--> 183\u001b[0m     \u001b[38;5;28mself\u001b[39m\u001b[38;5;241m.\u001b[39mvalues[register\u001b[38;5;241m.\u001b[39mname] \u001b[38;5;241m=\u001b[39m \u001b[38;5;28;43mself\u001b[39;49m\u001b[38;5;241;43m.\u001b[39;49m\u001b[43m_i2c_read\u001b[49m\u001b[43m(\u001b[49m\u001b[43mregister\u001b[49m\u001b[38;5;241;43m.\u001b[39;49m\u001b[43maddress\u001b[49m\u001b[43m,\u001b[49m\u001b[43m \u001b[49m\u001b[43mregister\u001b[49m\u001b[38;5;241;43m.\u001b[39;49m\u001b[43mbit_width\u001b[49m\u001b[43m)\u001b[49m\n\u001b[1;32m    184\u001b[0m     register\u001b[38;5;241m.\u001b[39mis_read \u001b[38;5;241m=\u001b[39m \u001b[38;5;28;01mTrue\u001b[39;00m\n",
      "File \u001b[0;32m~/.local/lib/python3.9/site-packages/i2cdevice/__init__.py:288\u001b[0m, in \u001b[0;36mDevice._i2c_read\u001b[0;34m(self, register, bit_width)\u001b[0m\n\u001b[1;32m    287\u001b[0m value \u001b[38;5;241m=\u001b[39m \u001b[38;5;241m0\u001b[39m\n\u001b[0;32m--> 288\u001b[0m \u001b[38;5;28;01mfor\u001b[39;00m x \u001b[38;5;129;01min\u001b[39;00m \u001b[38;5;28;43mself\u001b[39;49m\u001b[38;5;241;43m.\u001b[39;49m\u001b[43m_i2c\u001b[49m\u001b[38;5;241;43m.\u001b[39;49m\u001b[43mread_i2c_block_data\u001b[49m\u001b[43m(\u001b[49m\u001b[38;5;28;43mself\u001b[39;49m\u001b[38;5;241;43m.\u001b[39;49m\u001b[43m_i2c_address\u001b[49m\u001b[43m,\u001b[49m\u001b[43m \u001b[49m\u001b[43mregister\u001b[49m\u001b[43m,\u001b[49m\u001b[43m \u001b[49m\u001b[43mbit_width\u001b[49m\u001b[43m \u001b[49m\u001b[38;5;241;43m/\u001b[39;49m\u001b[38;5;241;43m/\u001b[39;49m\u001b[43m \u001b[49m\u001b[38;5;28;43mself\u001b[39;49m\u001b[38;5;241;43m.\u001b[39;49m\u001b[43m_bit_width\u001b[49m\u001b[43m)\u001b[49m:\n\u001b[1;32m    289\u001b[0m     value \u001b[38;5;241m<<\u001b[39m\u001b[38;5;241m=\u001b[39m \u001b[38;5;241m8\u001b[39m\n",
      "\u001b[0;31mOSError\u001b[0m: [Errno 121] Remote I/O error",
      "\nDuring handling of the above exception, another exception occurred:\n",
      "\u001b[0;31mRuntimeError\u001b[0m                              Traceback (most recent call last)",
      "Input \u001b[0;32mIn [4]\u001b[0m, in \u001b[0;36m<cell line: 9>\u001b[0;34m()\u001b[0m\n\u001b[1;32m      6\u001b[0m lsm \u001b[38;5;241m=\u001b[39m LSM303D(\u001b[38;5;241m0x1d\u001b[39m)  \u001b[38;5;66;03m# Change to 0x1e if you have soldered the address jumper\u001b[39;00m\n\u001b[1;32m      8\u001b[0m \u001b[38;5;28;01mwhile\u001b[39;00m \u001b[38;5;28;01mTrue\u001b[39;00m:\n\u001b[0;32m----> 9\u001b[0m     xyz \u001b[38;5;241m=\u001b[39m \u001b[43mlsm\u001b[49m\u001b[38;5;241;43m.\u001b[39;49m\u001b[43maccelerometer\u001b[49m\u001b[43m(\u001b[49m\u001b[43m)\u001b[49m\n\u001b[1;32m     11\u001b[0m     \u001b[38;5;28mprint\u001b[39m((\u001b[38;5;124m\"\u001b[39m\u001b[38;5;132;01m{:+06.2f}\u001b[39;00m\u001b[38;5;124mg : \u001b[39m\u001b[38;5;132;01m{:+06.2f}\u001b[39;00m\u001b[38;5;124mg : \u001b[39m\u001b[38;5;132;01m{:+06.2f}\u001b[39;00m\u001b[38;5;124mg\u001b[39m\u001b[38;5;124m\"\u001b[39m)\u001b[38;5;241m.\u001b[39mformat(\u001b[38;5;241m*\u001b[39mxyz))\n\u001b[1;32m     13\u001b[0m     time\u001b[38;5;241m.\u001b[39msleep(\u001b[38;5;241m1.0\u001b[39m\u001b[38;5;241m/\u001b[39m\u001b[38;5;241m50\u001b[39m)\n",
      "File \u001b[0;32m~/.local/lib/python3.9/site-packages/lsm303d/__init__.py:431\u001b[0m, in \u001b[0;36mLSM303D.accelerometer\u001b[0;34m(self)\u001b[0m\n\u001b[1;32m    425\u001b[0m \u001b[38;5;28;01mdef\u001b[39;00m \u001b[38;5;21maccelerometer\u001b[39m(\u001b[38;5;28mself\u001b[39m):\n\u001b[1;32m    426\u001b[0m     \u001b[38;5;124;03m\"\"\"Return acelerometer x, y and z readings.\u001b[39;00m\n\u001b[1;32m    427\u001b[0m \n\u001b[1;32m    428\u001b[0m \u001b[38;5;124;03m    These readings are given in g annd should be +/- the given accel_full_scale_g value.\u001b[39;00m\n\u001b[1;32m    429\u001b[0m \n\u001b[1;32m    430\u001b[0m \u001b[38;5;124;03m    \"\"\"\u001b[39;00m\n\u001b[0;32m--> 431\u001b[0m     \u001b[38;5;28;43mself\u001b[39;49m\u001b[38;5;241;43m.\u001b[39;49m\u001b[43msetup\u001b[49m\u001b[43m(\u001b[49m\u001b[43m)\u001b[49m\n\u001b[1;32m    432\u001b[0m     accel \u001b[38;5;241m=\u001b[39m \u001b[38;5;28mself\u001b[39m\u001b[38;5;241m.\u001b[39m_lsm303d\u001b[38;5;241m.\u001b[39mget(\u001b[38;5;124m'\u001b[39m\u001b[38;5;124mACCELEROMETER\u001b[39m\u001b[38;5;124m'\u001b[39m)\n\u001b[1;32m    433\u001b[0m     x, y, z \u001b[38;5;241m=\u001b[39m accel\u001b[38;5;241m.\u001b[39mx, accel\u001b[38;5;241m.\u001b[39my, accel\u001b[38;5;241m.\u001b[39mz\n",
      "File \u001b[0;32m~/.local/lib/python3.9/site-packages/lsm303d/__init__.py:375\u001b[0m, in \u001b[0;36mLSM303D.setup\u001b[0;34m(self)\u001b[0m\n\u001b[1;32m    373\u001b[0m         \u001b[38;5;28;01mraise\u001b[39;00m \u001b[38;5;167;01mRuntimeError\u001b[39;00m(\u001b[38;5;124m\"\u001b[39m\u001b[38;5;124mUnable to find lsm303d on 0x\u001b[39m\u001b[38;5;132;01m{:02x}\u001b[39;00m\u001b[38;5;124m, WHOAMI returned \u001b[39m\u001b[38;5;132;01m{:02x}\u001b[39;00m\u001b[38;5;124m\"\u001b[39m\u001b[38;5;241m.\u001b[39mformat(\u001b[38;5;28mself\u001b[39m\u001b[38;5;241m.\u001b[39m_i2c_addr, chip\u001b[38;5;241m.\u001b[39mid))\n\u001b[1;32m    374\u001b[0m \u001b[38;5;28;01mexcept\u001b[39;00m \u001b[38;5;167;01mIOError\u001b[39;00m:\n\u001b[0;32m--> 375\u001b[0m     \u001b[38;5;28;01mraise\u001b[39;00m \u001b[38;5;167;01mRuntimeError\u001b[39;00m(\u001b[38;5;124m\"\u001b[39m\u001b[38;5;124mUnable to find lsm303d on 0x\u001b[39m\u001b[38;5;132;01m{:02x}\u001b[39;00m\u001b[38;5;124m, IOError\u001b[39m\u001b[38;5;124m\"\u001b[39m\u001b[38;5;241m.\u001b[39mformat(\u001b[38;5;28mself\u001b[39m\u001b[38;5;241m.\u001b[39m_i2c_addr))\n\u001b[1;32m    377\u001b[0m \u001b[38;5;28mself\u001b[39m\u001b[38;5;241m.\u001b[39m_lsm303d\u001b[38;5;241m.\u001b[39mset(\u001b[38;5;124m'\u001b[39m\u001b[38;5;124mCONTROL1\u001b[39m\u001b[38;5;124m'\u001b[39m,\n\u001b[1;32m    378\u001b[0m                   accel_x_enable\u001b[38;5;241m=\u001b[39m\u001b[38;5;241m1\u001b[39m,\n\u001b[1;32m    379\u001b[0m                   accel_y_enable\u001b[38;5;241m=\u001b[39m\u001b[38;5;241m1\u001b[39m,\n\u001b[1;32m    380\u001b[0m                   accel_z_enable\u001b[38;5;241m=\u001b[39m\u001b[38;5;241m1\u001b[39m,\n\u001b[1;32m    381\u001b[0m                   accel_data_rate_hz\u001b[38;5;241m=\u001b[39m\u001b[38;5;241m50\u001b[39m)\n\u001b[1;32m    383\u001b[0m \u001b[38;5;28mself\u001b[39m\u001b[38;5;241m.\u001b[39mset_accel_full_scale_g(\u001b[38;5;241m2\u001b[39m)\n",
      "\u001b[0;31mRuntimeError\u001b[0m: Unable to find lsm303d on 0x1d, IOError"
     ]
    }
   ],
   "source": [
    "#!/usr/bin/env python\n",
    "\n",
    "import time\n",
    "from lsm303d import LSM303D\n",
    "\n",
    "lsm = LSM303D(0x1d)  # Change to 0x1e if you have soldered the address jumper\n",
    "\n",
    "while True:\n",
    "    xyz = lsm.accelerometer()\n",
    "\n",
    "    print((\"{:+06.2f}g : {:+06.2f}g : {:+06.2f}g\").format(*xyz))\n",
    "\n",
    "    time.sleep(1.0/50)"
   ]
  },
  {
   "cell_type": "code",
   "execution_count": 21,
   "id": "d27d9c7c",
   "metadata": {},
   "outputs": [
    {
     "name": "stdout",
     "output_type": "stream",
     "text": [
      "Acceleration calibration is starting and keep placing the IMU in 6 different directions based on the instructions below\n",
      "Put the IMU in 1 position\n",
      "[  6.85518802 -16.85664302   2.42940647]\n",
      "[6.855188024719617]\n",
      "[-16.85664301945525]\n",
      "[]\n",
      "Put the IMU in 2 position\n",
      "[7.86714293 2.5530254  1.91858949]\n",
      "[6.855188024719617, 7.867142926985578]\n",
      "[-16.85664301945525]\n",
      "[]\n",
      "Put the IMU in 3 position\n",
      "[16.77663669 -7.87227875  3.25153341]\n",
      "[6.855188024719617, 7.867142926985578, 16.776636694895856]\n",
      "[-16.85664301945525, -7.872278751201649]\n",
      "[]\n",
      "Put the IMU in 4 position\n",
      "[-2.4567257  -6.21358112  3.00135053]\n",
      "[6.855188024719617, 7.867142926985578, 16.776636694895856]\n",
      "[-16.85664301945525, -7.872278751201649, -6.213581117875943]\n",
      "[]\n",
      "Put the IMU in 5 position\n",
      "[ 6.10577071 -7.38737434 -7.8008022 ]\n",
      "[6.855188024719617, 7.867142926985578, 16.776636694895856, 6.105770710002288]\n",
      "[-16.85664301945525, -7.872278751201649, -6.213581117875943, -7.387374341039139]\n",
      "[-7.800802204623483]\n",
      "Put the IMU in 6 position\n",
      "[ 7.92144619 -8.02509646 11.68875881]\n",
      "[6.855188024719617, 7.867142926985578, 16.776636694895856, 6.105770710002288, 7.921446187228198]\n",
      "[-16.85664301945525, -7.872278751201649, -6.213581117875943, -7.387374341039139, -8.025096457770658]\n",
      "[-7.800802204623483, 11.688758809796292]\n",
      "It looks like there were some external forces on sensor and couldn't get proper values. Please try again\n"
     ]
    }
   ],
   "source": [
    "imu.caliberateAccelerometer()"
   ]
  },
  {
   "cell_type": "code",
   "execution_count": 23,
   "id": "eda13b23",
   "metadata": {},
   "outputs": [],
   "source": [
    "imu.caliberateMagPrecise()"
   ]
  },
  {
   "cell_type": "code",
   "execution_count": 27,
   "id": "0d7062cd",
   "metadata": {},
   "outputs": [
    {
     "ename": "KeyboardInterrupt",
     "evalue": "",
     "output_type": "error",
     "traceback": [
      "\u001b[0;31m---------------------------------------------------------------------------\u001b[0m",
      "\u001b[0;31mKeyboardInterrupt\u001b[0m                         Traceback (most recent call last)",
      "Input \u001b[0;32mIn [27]\u001b[0m, in \u001b[0;36m<cell line: 4>\u001b[0;34m()\u001b[0m\n\u001b[1;32m      4\u001b[0m imu\u001b[38;5;241m.\u001b[39mreadSensor()\n\u001b[1;32m      5\u001b[0m imu\u001b[38;5;241m.\u001b[39mcomputeOrientation()\n\u001b[0;32m----> 6\u001b[0m \u001b[43mtime\u001b[49m\u001b[38;5;241;43m.\u001b[39;49m\u001b[43msleep\u001b[49m\u001b[43m(\u001b[49m\u001b[38;5;241;43m0.1\u001b[39;49m\u001b[43m)\u001b[49m\n",
      "\u001b[0;31mKeyboardInterrupt\u001b[0m: "
     ]
    }
   ],
   "source": [
    "import time\n",
    "\n",
    "while True:\n",
    "    imu.readSensor()\n",
    "    imu.computeOrientation()\n",
    "    time.sleep(0.1)"
   ]
  }
 ],
 "metadata": {
  "kernelspec": {
   "display_name": "Python 3 (ipykernel)",
   "language": "python",
   "name": "python3"
  },
  "language_info": {
   "codemirror_mode": {
    "name": "ipython",
    "version": 3
   },
   "file_extension": ".py",
   "mimetype": "text/x-python",
   "name": "python",
   "nbconvert_exporter": "python",
   "pygments_lexer": "ipython3",
   "version": "3.9.2"
  }
 },
 "nbformat": 4,
 "nbformat_minor": 5
}

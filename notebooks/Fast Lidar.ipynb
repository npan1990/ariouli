{
 "cells": [
  {
   "cell_type": "code",
   "execution_count": 39,
   "id": "4af5c2c0",
   "metadata": {},
   "outputs": [
    {
     "name": "stderr",
     "output_type": "stream",
     "text": [
      "/usr/lib/python3/dist-packages/gpiozero/output_devices.py:1532: PWMSoftwareFallback: To reduce servo jitter, use the pigpio pin factory.See https://gpiozero.readthedocs.io/en/stable/api_output.html#servo for more info\n",
      "  warnings.warn(PWMSoftwareFallback(\n"
     ]
    }
   ],
   "source": [
    "from gpiozero import Servo\n",
    "from time import sleep\n",
    "\n",
    "servo = Servo(17)"
   ]
  },
  {
   "cell_type": "code",
   "execution_count": 42,
   "id": "f1dd141d",
   "metadata": {},
   "outputs": [],
   "source": [
    "def scan(frequency=0.1, angle=100):\n",
    "    try:\n",
    "            for i in range(0,angle,1):\n",
    "                servo.value = i*0.01\n",
    "                sleep(frequency)\n",
    "            for i in range(angle,-angle,-1):\n",
    "                servo.value = i*0.01\n",
    "                sleep(frequency)\n",
    "            for i in range(-angle,0,1):\n",
    "                servo.value = i*0.01\n",
    "                sleep(frequency)\n",
    "    except KeyboardInterrupt:\n",
    "            print(\"Program stopped\")\n",
    "\n",
    "scan(frequency=0.05)"
   ]
  },
  {
   "cell_type": "code",
   "execution_count": 3,
   "id": "f869e0fb",
   "metadata": {},
   "outputs": [],
   "source": [
    "servo.value=0"
   ]
  },
  {
   "cell_type": "code",
   "execution_count": 34,
   "id": "ba855b5f",
   "metadata": {},
   "outputs": [],
   "source": [
    "import os\n",
    "import sys\n",
    "import time\n",
    "import smbus\n",
    "import numpy as np\n",
    "\n",
    "from imusensor.MPU9250 import MPU9250\n",
    "\n",
    "class NpanMPU9250(MPU9250.MPU9250):\n",
    "\n",
    "    \n",
    "    def calibrateAccelerometerNpan(self):\n",
    "        \"\"\"Caliberate Accelerometer by positioning it in 6 different positions\n",
    "        \n",
    "        This function expects the user to keep the imu in 6 different positions while caliberation. \n",
    "        It gives cues on when to change the position. It is expected that in all the 6 positions, \n",
    "        at least one axis of IMU is parallel to gravity of earth and no position is same. Hence we \n",
    "        get 6 positions namely -> +x, -x, +y, -y, +z, -z.\n",
    "        \"\"\"\n",
    "\n",
    "        currentAccelRange = self.AccelRange\n",
    "        currentFrequency = self.Frequency\n",
    "        currentSRD = self.CurrentSRD\n",
    "        self.setAccelRange(\"AccelRangeSelect2G\")\n",
    "        self.setLowPassFilterFrequency(\"AccelLowPassFilter20\")\n",
    "        self.setSRD(19)\n",
    "\n",
    "        xbias = []\n",
    "        ybias = []\n",
    "        zbias = []\n",
    "        xscale = []\n",
    "        yscale = []\n",
    "        zscale = []\n",
    "\n",
    "        print (\"Acceleration calibration is starting and keep placing the IMU in 6 different directions based on the instructions below\")\n",
    "\n",
    "        while True:\n",
    "            input(\"Put the IMU in +Z\")\n",
    "            time.sleep(3)\n",
    "            meanvals = self.__getAccelVals()\n",
    "            print (meanvals)\n",
    "            success = input(\"Success?:\")\n",
    "            if success == 'y':\n",
    "                zscale, zbias = self.__assignBiasOrScale(meanvals[2], zscale, zbias)\n",
    "                break\n",
    "        while True:\n",
    "            input(\"Put the IMU in -Z\")\n",
    "            time.sleep(3)\n",
    "            meanvals = self.__getAccelVals()\n",
    "            print (meanvals)\n",
    "            success = input(\"Success?:\")\n",
    "            if success == 'y':\n",
    "                zscale, zbias = self.__assignBiasOrScale(meanvals[2], zscale, zbias)\n",
    "                break\n",
    "        while True:\n",
    "            input(\"Put the IMU in +X\")\n",
    "            time.sleep(3)\n",
    "            meanvals = self.__getAccelVals()\n",
    "            print (meanvals)\n",
    "            success = input(\"Success?:\")\n",
    "            if success == 'y':\n",
    "                xscale, xbias = self.__assignBiasOrScale(meanvals[0], xscale, xbias)\n",
    "                break\n",
    "        while True:\n",
    "            input(\"Put the IMU in -X\")\n",
    "            time.sleep(3)\n",
    "            meanvals = self.__getAccelVals()\n",
    "            print (meanvals)\n",
    "            success = input(\"Success?:\")\n",
    "            if success == 'y':\n",
    "                xscale, xbias = self.__assignBiasOrScale(meanvals[0], xscale, xbias)\n",
    "                break\n",
    "        while True:\n",
    "            input(\"Put the IMU in +Y\")\n",
    "            time.sleep(3)\n",
    "            meanvals = self.__getAccelVals()\n",
    "            print (meanvals)\n",
    "            success = input(\"Success?:\")\n",
    "            if success == 'y':\n",
    "                yscale, ybias = self.__assignBiasOrScale(meanvals[1], yscale, ybias)\n",
    "                break\n",
    "        while True:\n",
    "            input(\"Put the IMU in -Y\")\n",
    "            time.sleep(3)\n",
    "            meanvals = self.__getAccelVals()\n",
    "            print (meanvals)\n",
    "            success = input(\"Success?:\")\n",
    "            if success == 'y':\n",
    "                yscale, ybias = self.__assignBiasOrScale(meanvals[1], yscale, ybias)\n",
    "                break\n",
    "\n",
    "        if len(xscale) != 2 or len(yscale) != 2 or len(zscale) != 2:\n",
    "            print (\"It looks like there were some external forces on sensor and couldn't get proper values. Please try again\")\n",
    "            return\n",
    "\n",
    "\n",
    "        self.AccelBias[0] = -1*(xscale[0] + xscale[1])/(abs(xscale[0]) + abs(xscale[1]))\n",
    "        self.AccelBias[1] = -1*(yscale[0] + yscale[1])/(abs(yscale[0]) + abs(yscale[1]))\n",
    "        self.AccelBias[2] = -1*(zscale[0] + zscale[1])/(abs(zscale[0]) + abs(zscale[1]))\n",
    "\n",
    "        self.AccelBias = -1*self.cfg.Gravity*self.AccelBias\n",
    "\n",
    "        self.Accels[0] = (2.0*self.cfg.Gravity)/(abs(xscale[0]) + abs(xscale[1]))\n",
    "        self.Accels[1] = (2.0*self.cfg.Gravity)/(abs(yscale[0]) + abs(yscale[1]))\n",
    "        self.Accels[2] = (2.0*self.cfg.Gravity)/(abs(zscale[0]) + abs(zscale[1]))\n",
    "        \n",
    "        self.setAccelRange(currentAccelRange)\n",
    "        self.setLowPassFilterFrequency(currentFrequency)\n",
    "        self.setSRD(currentSRD)\n",
    "    def __assignBiasOrScale(self, val, scale, bias):\n",
    "\n",
    "        if val > 6.0 or val < -6.0 :\n",
    "            scale.append(val)\n",
    "        else:\n",
    "            bias.append(val)\n",
    "        return scale, bias\n",
    "    def __getAccelVals(self):\n",
    "\n",
    "            accelvals = np.zeros((100,3))\n",
    "            for samples in range(1,100):\n",
    "                self.readSensor()\n",
    "                vals = self.AccelVals/self.Accels + self.AccelBias\n",
    "                accelvals[samples] = vals\n",
    "                time.sleep(0.02)\n",
    "            meanvals = np.array([accelvals[:,0].mean(), accelvals[:,1].mean(), accelvals[:,2].mean()])\n",
    "            return meanvals"
   ]
  },
  {
   "cell_type": "code",
   "execution_count": 35,
   "id": "e2e234a0",
   "metadata": {},
   "outputs": [
    {
     "name": "stdout",
     "output_type": "stream",
     "text": [
      "The name is wrong [113]\n"
     ]
    },
    {
     "data": {
      "text/plain": [
       "1"
      ]
     },
     "execution_count": 35,
     "metadata": {},
     "output_type": "execute_result"
    }
   ],
   "source": [
    "address = 0x68\n",
    "bus = smbus.SMBus(1)\n",
    "imu = NpanMPU9250(bus, address)\n",
    "imu.begin()"
   ]
  },
  {
   "cell_type": "code",
   "execution_count": 36,
   "id": "d3ed873c",
   "metadata": {},
   "outputs": [
    {
     "name": "stdout",
     "output_type": "stream",
     "text": [
      "Acceleration calibration is starting and keep placing the IMU in 6 different directions based on the instructions below\n",
      "Put the IMU in +Z\n",
      "[ 6.80303367 -8.75523947 -7.71328968]\n",
      "Success?:y\n",
      "Put the IMU in -Z\n",
      "[ 7.44067797 -5.0588527  11.5463205 ]\n",
      "Success?:y\n",
      "Put the IMU in +X\n",
      "[  7.3344538  -16.59557196   4.26902518]\n",
      "Success?:y\n",
      "Put the IMU in -X\n",
      "[ 7.30545854  2.38270519 -0.18764314]\n",
      "Success?:y\n",
      "Put the IMU in +Y\n",
      "[16.75648846 -7.22376422  3.38978764]\n",
      "Success?:y\n",
      "Put the IMU in -Y\n",
      "[-2.53937776 -6.50645479  2.71304404]\n",
      "Success?:y\n"
     ]
    }
   ],
   "source": [
    "imu.calibrateAccelerometerNpan()"
   ]
  },
  {
   "cell_type": "code",
   "execution_count": 37,
   "id": "0fc44767",
   "metadata": {},
   "outputs": [],
   "source": [
    "imu.saveCalibDataToFile(\"./calib_real_bolder.json\")"
   ]
  },
  {
   "cell_type": "code",
   "execution_count": 10,
   "id": "12951099",
   "metadata": {},
   "outputs": [],
   "source": [
    "imu.caliberateMagApprox()"
   ]
  },
  {
   "cell_type": "code",
   "execution_count": 4,
   "id": "a7c84ed1",
   "metadata": {},
   "outputs": [],
   "source": [
    "imu.saveCalibDataToFile(\"./calib_real_bolder.json\")"
   ]
  },
  {
   "cell_type": "code",
   "execution_count": 5,
   "id": "ac85a45a",
   "metadata": {},
   "outputs": [],
   "source": [
    "imu.loadCalibDataFromFile(\"./calib_real_bolder.json\")"
   ]
  },
  {
   "cell_type": "code",
   "execution_count": 38,
   "id": "60d37e80",
   "metadata": {},
   "outputs": [
    {
     "name": "stdout",
     "output_type": "stream",
     "text": [
      "[-4.17638652  1.2311151  -9.84903442]97]2077e-02]\r"
     ]
    },
    {
     "ename": "KeyboardInterrupt",
     "evalue": "",
     "output_type": "error",
     "traceback": [
      "\u001b[0;31m---------------------------------------------------------------------------\u001b[0m",
      "\u001b[0;31mKeyboardInterrupt\u001b[0m                         Traceback (most recent call last)",
      "Input \u001b[0;32mIn [38]\u001b[0m, in \u001b[0;36m<cell line: 2>\u001b[0;34m()\u001b[0m\n\u001b[1;32m      2\u001b[0m imu\u001b[38;5;241m.\u001b[39mreadSensor()\n\u001b[1;32m      3\u001b[0m \u001b[38;5;28mprint\u001b[39m(imu\u001b[38;5;241m.\u001b[39mAccelVals,end\u001b[38;5;241m=\u001b[39m\u001b[38;5;124m\"\u001b[39m\u001b[38;5;130;01m\\r\u001b[39;00m\u001b[38;5;124m\"\u001b[39m)\n\u001b[0;32m----> 4\u001b[0m \u001b[43mtime\u001b[49m\u001b[38;5;241;43m.\u001b[39;49m\u001b[43msleep\u001b[49m\u001b[43m(\u001b[49m\u001b[38;5;241;43m0.1\u001b[39;49m\u001b[43m)\u001b[49m\n",
      "\u001b[0;31mKeyboardInterrupt\u001b[0m: "
     ]
    }
   ],
   "source": [
    "while True:\n",
    "    imu.readSensor()\n",
    "    print(imu.AccelVals,end=\"\\r\")\n",
    "    time.sleep(0.1)"
   ]
  },
  {
   "cell_type": "code",
   "execution_count": 12,
   "id": "e1995989",
   "metadata": {},
   "outputs": [
    {
     "name": "stdout",
     "output_type": "stream",
     "text": [
      "Acceleration calibration is starting and keep placing the IMU in 6 different directions based on the instructions below\n",
      "Put the IMU in 1 position\n",
      "[ 6.52596254 -8.53055015 -7.73496429]\n",
      "[6.52596253788052]\n",
      "[-8.530550150606548]\n",
      "[-7.734964290226595]\n",
      "Put the IMU in 2 position\n",
      "[ 7.74257824 -6.56220661 11.76162406]\n",
      "[6.52596253788052, 7.742578239414054]\n",
      "[-8.530550150606548, -6.562206612039368]\n",
      "[-7.734964290226595, 11.761624064087892]\n",
      "Put the IMU in 3 position\n",
      "[  6.61985594 -16.7858309    2.96150899]\n",
      "[6.52596253788052, 7.742578239414054, 6.619855939574274]\n",
      "[-8.530550150606548, -6.562206612039368, -16.785830897688257]\n",
      "[-7.734964290226595, 11.761624064087892]\n",
      "Put the IMU in 4 position\n",
      "[7.58268531 2.49398737 0.57713974]\n",
      "[6.52596253788052, 7.742578239414054, 6.619855939574274, 7.582685306477454]\n",
      "[-8.530550150606548, -6.562206612039368, -16.785830897688257]\n",
      "[-7.734964290226595, 11.761624064087892]\n",
      "Put the IMU in 5 position\n",
      "[-2.51445285 -6.26623229  2.78518501]\n",
      "[6.52596253788052, 7.742578239414054, 6.619855939574274, 7.582685306477454]\n",
      "[-8.530550150606548, -6.562206612039368, -16.785830897688257, -6.266232294804301]\n",
      "[-7.734964290226595, 11.761624064087892]\n",
      "Put the IMU in 6 position\n",
      "[16.82761185 -7.55969381  3.25588509]\n",
      "[6.52596253788052, 7.742578239414054, 6.619855939574274, 7.582685306477454, 16.82761184527352]\n",
      "[-8.530550150606548, -6.562206612039368, -16.785830897688257, -6.266232294804301, -7.559693813687343]\n",
      "[-7.734964290226595, 11.761624064087892]\n",
      "It looks like there were some external forces on sensor and couldn't get proper values. Please try again\n",
      "Accel calibration Finisehd\n",
      "[0. 0. 0.]\n",
      "[1. 1. 1.]\n"
     ]
    }
   ],
   "source": [
    "imu.caliberateAccelerometer()\n",
    "print (\"Accel calibration Finisehd\")\n",
    "print (imu.AccelBias)\n",
    "print (imu.Accels)"
   ]
  }
 ],
 "metadata": {
  "kernelspec": {
   "display_name": "Python 3 (ipykernel)",
   "language": "python",
   "name": "python3"
  },
  "language_info": {
   "codemirror_mode": {
    "name": "ipython",
    "version": 3
   },
   "file_extension": ".py",
   "mimetype": "text/x-python",
   "name": "python",
   "nbconvert_exporter": "python",
   "pygments_lexer": "ipython3",
   "version": "3.9.2"
  }
 },
 "nbformat": 4,
 "nbformat_minor": 5
}
